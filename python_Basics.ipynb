{
  "nbformat": 4,
  "nbformat_minor": 0,
  "metadata": {
    "colab": {
      "provenance": []
    },
    "kernelspec": {
      "name": "python3",
      "display_name": "Python 3"
    },
    "language_info": {
      "name": "python"
    }
  },
  "cells": [
    {
      "cell_type": "code",
      "execution_count": null,
      "metadata": {
        "id": "WabMcxiggvPY",
        "colab": {
          "base_uri": "https://localhost:8080/"
        },
        "outputId": "e7edfc48-9da1-41cf-9c05-3b93c6b51e2a"
      },
      "outputs": [
        {
          "output_type": "stream",
          "name": "stdout",
          "text": [
            "Python 3.10.12\n"
          ]
        }
      ],
      "source": [
        "!python --version"
      ]
    },
    {
      "cell_type": "code",
      "source": [
        "print(\"hello everyone\")"
      ],
      "metadata": {
        "colab": {
          "base_uri": "https://localhost:8080/"
        },
        "id": "OKiJZ0sEn5CC",
        "outputId": "8230cf2a-ab1a-45d5-fb24-493b1ade901b"
      },
      "execution_count": null,
      "outputs": [
        {
          "output_type": "stream",
          "name": "stdout",
          "text": [
            "hello everyone\n"
          ]
        }
      ]
    },
    {
      "cell_type": "code",
      "source": [
        "!lsb_release -a"
      ],
      "metadata": {
        "colab": {
          "base_uri": "https://localhost:8080/"
        },
        "id": "tQNxflb5qQ1P",
        "outputId": "e40ab77e-8206-4805-e6ce-f3870feac172"
      },
      "execution_count": null,
      "outputs": [
        {
          "output_type": "stream",
          "name": "stdout",
          "text": [
            "No LSB modules are available.\n",
            "Distributor ID:\tUbuntu\n",
            "Description:\tUbuntu 22.04.3 LTS\n",
            "Release:\t22.04\n",
            "Codename:\tjammy\n"
          ]
        }
      ]
    },
    {
      "cell_type": "code",
      "source": [
        "#print is a inbuilt function\n",
        "# type - what datatype is the variable"
      ],
      "metadata": {
        "id": "otv9J6haoB3w"
      },
      "execution_count": null,
      "outputs": []
    },
    {
      "cell_type": "code",
      "source": [
        "a=1 #initialize a variable with value 1\n",
        "print(a)\n",
        "print(type(a))"
      ],
      "metadata": {
        "colab": {
          "base_uri": "https://localhost:8080/"
        },
        "id": "ioqOsW6noelH",
        "outputId": "605eb8ab-2432-4563-d40c-4ca833b469fc"
      },
      "execution_count": null,
      "outputs": [
        {
          "output_type": "stream",
          "name": "stdout",
          "text": [
            "1\n",
            "<class 'int'>\n"
          ]
        }
      ]
    },
    {
      "cell_type": "code",
      "source": [
        "b=2 #int\n",
        "c=2.3 #float\n",
        "d='A'  #str\n",
        "e='python' #str\n",
        "f=\"webinar\"  #str\n",
        "g=True  #bool\n",
        "print(type(b),type(c),type(d),type(e),type(f),type(g))"
      ],
      "metadata": {
        "colab": {
          "base_uri": "https://localhost:8080/"
        },
        "id": "m49Befarotm3",
        "outputId": "2c39386e-7620-42ee-8ddf-3ed670148857"
      },
      "execution_count": null,
      "outputs": [
        {
          "output_type": "stream",
          "name": "stdout",
          "text": [
            "<class 'int'> <class 'float'> <class 'str'> <class 'str'> <class 'str'> <class 'bool'>\n"
          ]
        }
      ]
    },
    {
      "cell_type": "code",
      "source": [
        "# input function\n",
        "# string formatting\n",
        "# condition\n",
        "# loop"
      ],
      "metadata": {
        "id": "STfr2QWFqx9a"
      },
      "execution_count": null,
      "outputs": []
    },
    {
      "cell_type": "code",
      "source": [
        "name= input()\n",
        "print(name)\n",
        "print(type(name))"
      ],
      "metadata": {
        "colab": {
          "base_uri": "https://localhost:8080/"
        },
        "id": "1_wXujLmq9uq",
        "outputId": "ed03b649-84f7-494b-fbfd-2eee3c941f8e"
      },
      "execution_count": null,
      "outputs": [
        {
          "output_type": "stream",
          "name": "stdout",
          "text": [
            "karthikeya\n",
            "karthikeya\n",
            "<class 'str'>\n"
          ]
        }
      ]
    },
    {
      "cell_type": "code",
      "source": [
        "a=input()\n",
        "print(a)\n",
        "print(type(a))"
      ],
      "metadata": {
        "colab": {
          "base_uri": "https://localhost:8080/"
        },
        "id": "bLJP0UzPrfZM",
        "outputId": "eac257f2-8538-4677-f73c-9b46de53f15d"
      },
      "execution_count": null,
      "outputs": [
        {
          "output_type": "stream",
          "name": "stdout",
          "text": [
            "3\n",
            "3\n",
            "<class 'str'>\n"
          ]
        }
      ]
    },
    {
      "cell_type": "code",
      "source": [
        "a=int(input())\n",
        "b=int(input())\n",
        "add=a+b\n",
        "print(f'the sum of {a} and {b} is {add}')"
      ],
      "metadata": {
        "colab": {
          "base_uri": "https://localhost:8080/"
        },
        "id": "wMvJWP5NsDAV",
        "outputId": "38337e50-595d-4200-9476-9d40d5b09add"
      },
      "execution_count": null,
      "outputs": [
        {
          "output_type": "stream",
          "name": "stdout",
          "text": [
            "11\n",
            "22\n",
            "the sum of 11 and 22 is 33\n"
          ]
        }
      ]
    },
    {
      "cell_type": "code",
      "source": [
        "print('11'+'22')\n"
      ],
      "metadata": {
        "colab": {
          "base_uri": "https://localhost:8080/"
        },
        "id": "-dBwqZ3aslSF",
        "outputId": "a6378f76-15b3-4f54-a975-bf88c7284bfb"
      },
      "execution_count": null,
      "outputs": [
        {
          "output_type": "stream",
          "name": "stdout",
          "text": [
            "1122\n"
          ]
        }
      ]
    },
    {
      "cell_type": "code",
      "source": [
        "# boolean datatype\n",
        "x=0\n",
        "print(bool(x))\n"
      ],
      "metadata": {
        "colab": {
          "base_uri": "https://localhost:8080/"
        },
        "id": "BX5JriADtTy-",
        "outputId": "fa26291b-66f6-499f-87e6-071a0757f19a"
      },
      "execution_count": null,
      "outputs": [
        {
          "output_type": "stream",
          "name": "stdout",
          "text": [
            "False\n"
          ]
        }
      ]
    },
    {
      "cell_type": "code",
      "source": [
        "x=10\n",
        "print(bool(x))"
      ],
      "metadata": {
        "colab": {
          "base_uri": "https://localhost:8080/"
        },
        "id": "S0MQXi62tpTE",
        "outputId": "770d36bc-996a-4dfd-eb6b-33376aa2c79f"
      },
      "execution_count": null,
      "outputs": [
        {
          "output_type": "stream",
          "name": "stdout",
          "text": [
            "True\n"
          ]
        }
      ]
    },
    {
      "cell_type": "code",
      "source": [
        "num =34\n",
        "print(num%2)\n",
        "print"
      ],
      "metadata": {
        "colab": {
          "base_uri": "https://localhost:8080/"
        },
        "id": "eTbxiREnuvbu",
        "outputId": "65126607-88fa-4ce8-aac7-cdaac399e81c"
      },
      "execution_count": null,
      "outputs": [
        {
          "output_type": "stream",
          "name": "stdout",
          "text": [
            "0\n"
          ]
        }
      ]
    },
    {
      "cell_type": "code",
      "source": [
        "num=34\n",
        "if(num%2==0):\n",
        "  print(\"it is even number\")\n",
        "else:\n",
        "  print(\"it is odd number\")"
      ],
      "metadata": {
        "colab": {
          "base_uri": "https://localhost:8080/"
        },
        "id": "XcA3J5AcvBP9",
        "outputId": "d5c17fe3-f16f-4f72-bc0a-945efa7cc042"
      },
      "execution_count": null,
      "outputs": [
        {
          "output_type": "stream",
          "name": "stdout",
          "text": [
            "it is even number\n"
          ]
        }
      ]
    },
    {
      "cell_type": "code",
      "source": [
        "# take weather condition from the user\n",
        "# sunny - summer season\n",
        "# cold - winter season\n",
        "# rain - monsoon season\n",
        "# anything else - wrong input"
      ],
      "metadata": {
        "id": "3mgSv1eEwJhE"
      },
      "execution_count": null,
      "outputs": []
    },
    {
      "cell_type": "code",
      "source": [
        "# elif = else + if"
      ],
      "metadata": {
        "id": "cQIsFiqywjHv"
      },
      "execution_count": null,
      "outputs": []
    },
    {
      "cell_type": "code",
      "source": [
        "weather = input(\"enter the weather condition\")\n",
        "if weather == 'sunny' or weather == 'hot':\n",
        "  print(\"it is summer season\")\n",
        "elif weather == 'cold'or weather == 'chill':\n",
        "  print(\"it is winter season\")\n",
        "elif weather == 'rain'or weather == 'thunder' or weather == 'lightning':\n",
        "  print(\"it is monsoon season\")\n",
        "else:\n",
        "  print(\"wrong input\")\n"
      ],
      "metadata": {
        "colab": {
          "base_uri": "https://localhost:8080/"
        },
        "id": "WH45qvpvwzmS",
        "outputId": "0ee18747-4771-4b00-e193-c0720257ef5f"
      },
      "execution_count": null,
      "outputs": [
        {
          "output_type": "stream",
          "name": "stdout",
          "text": [
            "enter the weather conditionchill\n",
            "it is winter season\n"
          ]
        }
      ]
    },
    {
      "cell_type": "code",
      "source": [
        "# string formatting\n",
        "\n",
        "num=34\n",
        "if(num%2==0):\n",
        "  print(f\"{num} is even number\")\n",
        "else:\n",
        "  print(f\"{num} is odd number\")"
      ],
      "metadata": {
        "colab": {
          "base_uri": "https://localhost:8080/"
        },
        "id": "aB_BLYb8yI-c",
        "outputId": "c163af3d-a520-4a87-cee5-e3097553f469"
      },
      "execution_count": null,
      "outputs": [
        {
          "output_type": "stream",
          "name": "stdout",
          "text": [
            "34 is even number\n"
          ]
        }
      ]
    },
    {
      "cell_type": "code",
      "source": [
        "a=12\n",
        "b='number'\n",
        "print(str(a)+b)"
      ],
      "metadata": {
        "colab": {
          "base_uri": "https://localhost:8080/"
        },
        "id": "Dzo_vZ0OyhYq",
        "outputId": "54ca4a81-4bc4-42e5-c3b2-ddc37ec2501e"
      },
      "execution_count": null,
      "outputs": [
        {
          "output_type": "stream",
          "name": "stdout",
          "text": [
            "12number\n"
          ]
        }
      ]
    },
    {
      "cell_type": "code",
      "source": [
        "a=12\n",
        "b='number'\n",
        "print(str(a)+ \" is a \" +b)"
      ],
      "metadata": {
        "colab": {
          "base_uri": "https://localhost:8080/"
        },
        "id": "urzaEmKlyw2m",
        "outputId": "58077f49-61e5-4daa-df26-62e71cfbb31a"
      },
      "execution_count": null,
      "outputs": [
        {
          "output_type": "stream",
          "name": "stdout",
          "text": [
            "12 is a number\n"
          ]
        }
      ]
    },
    {
      "cell_type": "code",
      "source": [
        "print(f'{a} is a {b}')\n"
      ],
      "metadata": {
        "colab": {
          "base_uri": "https://localhost:8080/"
        },
        "id": "hIk-SKQVzEkq",
        "outputId": "b397d580-9531-4d19-b4f5-d98f57a7e8c4"
      },
      "execution_count": null,
      "outputs": [
        {
          "output_type": "stream",
          "name": "stdout",
          "text": [
            "12 is a number\n"
          ]
        }
      ]
    },
    {
      "cell_type": "code",
      "source": [
        "name='karthikeya'\n",
        "print(type(name))\n",
        "age=20\n",
        "print(type(age))"
      ],
      "metadata": {
        "colab": {
          "base_uri": "https://localhost:8080/"
        },
        "id": "e91gMUae0F0a",
        "outputId": "9a46afc3-ea85-4d49-d62e-afe0b47345f2"
      },
      "execution_count": null,
      "outputs": [
        {
          "output_type": "stream",
          "name": "stdout",
          "text": [
            "<class 'str'>\n",
            "<class 'int'>\n"
          ]
        }
      ]
    },
    {
      "cell_type": "code",
      "source": [
        "print(f\"Age of {name} is {age}\")"
      ],
      "metadata": {
        "colab": {
          "base_uri": "https://localhost:8080/"
        },
        "id": "zmyL81Fy0Y6a",
        "outputId": "167855dd-00c3-4e41-cb47-cdef3610a949"
      },
      "execution_count": null,
      "outputs": [
        {
          "output_type": "stream",
          "name": "stdout",
          "text": [
            "Age of karthikeya is 20\n"
          ]
        }
      ]
    },
    {
      "cell_type": "code",
      "source": [
        "# looping constructs\n",
        "# repetition\n",
        "# iteration\n",
        "\n",
        "# for loop\n",
        "# while loop\n",
        "\n",
        "# advanced datatype : list, tuple and dictionary"
      ],
      "metadata": {
        "id": "DMjgZVtD06Ot"
      },
      "execution_count": null,
      "outputs": []
    },
    {
      "cell_type": "code",
      "source": [
        "print(\"karthikeya\" * 5)"
      ],
      "metadata": {
        "colab": {
          "base_uri": "https://localhost:8080/"
        },
        "id": "biuYrLnU1uNl",
        "outputId": "8632274d-8e99-45f1-e519-03eb4eb013d9"
      },
      "execution_count": null,
      "outputs": [
        {
          "output_type": "stream",
          "name": "stdout",
          "text": [
            "karthikeyakarthikeyakarthikeyakarthikeyakarthikeya "
          ]
        }
      ]
    },
    {
      "cell_type": "code",
      "source": [
        "i = 0\n",
        "while(i<=4):\n",
        "  print(\"karthikeya\",end='\\n')\n",
        "  i+=1"
      ],
      "metadata": {
        "colab": {
          "base_uri": "https://localhost:8080/"
        },
        "id": "0hlOEIkO19Oy",
        "outputId": "3b4cb5d6-04da-435d-e6dc-2bbde18a560b"
      },
      "execution_count": null,
      "outputs": [
        {
          "output_type": "stream",
          "name": "stdout",
          "text": [
            "karthikeya\n",
            "karthikeya\n",
            "karthikeya\n",
            "karthikeya\n",
            "karthikeya\n"
          ]
        }
      ]
    },
    {
      "cell_type": "code",
      "source": [
        "i = 0\n",
        "while(i<=4):\n",
        "  print(i,end='  ')\n",
        "  i+=1"
      ],
      "metadata": {
        "colab": {
          "base_uri": "https://localhost:8080/"
        },
        "id": "I5ZyEAHH27YK",
        "outputId": "c964b152-28fd-4579-887e-357bb45f0a9d"
      },
      "execution_count": null,
      "outputs": [
        {
          "output_type": "stream",
          "name": "stdout",
          "text": [
            "0  1  2  3  4  "
          ]
        }
      ]
    },
    {
      "cell_type": "code",
      "source": [
        "# range : start, stop[end], step\n",
        "# used with for loop\n",
        "# used with list/tuple\n",
        "\n",
        "# method 1\n",
        "# range(5)\n",
        "# start = 0, stop=5, end=5-1=4, step=1\n",
        "# ans : 0 1 2 3 4\n",
        "\n",
        "# method 2\n",
        "# range(2,6)\n",
        "# start =2, stop=6, end= 6-1=5, step=1\n",
        "# ans : 2 3 4 5\n",
        "\n",
        "# method 3\n",
        "# range(1,10,2)\n",
        "# start = 1, stop =10, end= s10-1=9, step = 2\n",
        "#ans : 1 3 5 7 9"
      ],
      "metadata": {
        "id": "wYo2d96u3Kp8"
      },
      "execution_count": null,
      "outputs": []
    },
    {
      "cell_type": "code",
      "source": [
        "for i in range(5):\n",
        "  print(i,end=' ')"
      ],
      "metadata": {
        "colab": {
          "base_uri": "https://localhost:8080/"
        },
        "id": "MR7tzZnfC9yJ",
        "outputId": "40269d3f-ec64-4458-cf49-265863930d73"
      },
      "execution_count": null,
      "outputs": [
        {
          "output_type": "stream",
          "name": "stdout",
          "text": [
            "0 1 2 3 4 "
          ]
        }
      ]
    },
    {
      "cell_type": "code",
      "source": [
        "for i in range(2,6):\n",
        "  print(i,end=' ')"
      ],
      "metadata": {
        "colab": {
          "base_uri": "https://localhost:8080/"
        },
        "id": "8VVwRMOzDS69",
        "outputId": "090b7a8a-1b73-4ce4-903a-6cd5ba6d0244"
      },
      "execution_count": null,
      "outputs": [
        {
          "output_type": "stream",
          "name": "stdout",
          "text": [
            "2 3 4 5 "
          ]
        }
      ]
    },
    {
      "cell_type": "code",
      "source": [
        "for i in range(1,10,2):\n",
        "  print(i,end=' ')"
      ],
      "metadata": {
        "colab": {
          "base_uri": "https://localhost:8080/"
        },
        "id": "srxk3Df-DZER",
        "outputId": "c9160b04-0415-48ca-dd34-250b28175378"
      },
      "execution_count": null,
      "outputs": [
        {
          "output_type": "stream",
          "name": "stdout",
          "text": [
            "1 3 5 7 9 "
          ]
        }
      ]
    },
    {
      "cell_type": "code",
      "source": [
        "# multiplication table of a given number using for loop and formatting string\n",
        "# 5 * 1 = 5\n",
        "# 5 * 2 = 10\n",
        "#.\n",
        "#.\n",
        "# 5 * 10 = 50"
      ],
      "metadata": {
        "id": "jAnX431vDlvB"
      },
      "execution_count": null,
      "outputs": []
    },
    {
      "cell_type": "code",
      "source": [
        "n=int(input('enter the number'))\n",
        "for i in range(1,11):\n",
        " print(f'{n} X {i} = {n*i}')"
      ],
      "metadata": {
        "colab": {
          "base_uri": "https://localhost:8080/"
        },
        "id": "8xINN5xlD-T4",
        "outputId": "42c54293-c3bf-4782-ff4c-aed4de1586db"
      },
      "execution_count": null,
      "outputs": [
        {
          "output_type": "stream",
          "name": "stdout",
          "text": [
            "enter the number5\n",
            "5 X 1 = 5\n",
            "5 X 2 = 10\n",
            "5 X 3 = 15\n",
            "5 X 4 = 20\n",
            "5 X 5 = 25\n",
            "5 X 6 = 30\n",
            "5 X 7 = 35\n",
            "5 X 8 = 40\n",
            "5 X 9 = 45\n",
            "5 X 10 = 50\n"
          ]
        }
      ]
    },
    {
      "cell_type": "code",
      "source": [
        "# list/tuple"
      ],
      "metadata": {
        "id": "pjk-2GLIEi7p"
      },
      "execution_count": null,
      "outputs": []
    },
    {
      "cell_type": "code",
      "source": [
        "a = [77,76,75,74] # is mutable object it means the values can be changed\n",
        "print(a)\n",
        "print(type(a))"
      ],
      "metadata": {
        "colab": {
          "base_uri": "https://localhost:8080/"
        },
        "id": "KHQtn6Q6Erdq",
        "outputId": "aa08c85e-5970-418d-cc14-f06a0b38b3f1"
      },
      "execution_count": null,
      "outputs": [
        {
          "output_type": "stream",
          "name": "stdout",
          "text": [
            "[77, 76, 75, 74]\n",
            "<class 'list'>\n"
          ]
        }
      ]
    },
    {
      "cell_type": "code",
      "source": [
        "len(a)"
      ],
      "metadata": {
        "colab": {
          "base_uri": "https://localhost:8080/"
        },
        "id": "94JeIMj5E33S",
        "outputId": "3d09a626-f37c-431f-deb5-ee46a08c9f82"
      },
      "execution_count": null,
      "outputs": [
        {
          "output_type": "execute_result",
          "data": {
            "text/plain": [
              "4"
            ]
          },
          "metadata": {},
          "execution_count": 8
        }
      ]
    },
    {
      "cell_type": "code",
      "source": [
        "# indexing\n",
        "a[0],\n",
        "a[1]"
      ],
      "metadata": {
        "colab": {
          "base_uri": "https://localhost:8080/"
        },
        "id": "4G1OsyuzFDoq",
        "outputId": "56165373-c3ea-44f6-c7ff-c78565cba8ca"
      },
      "execution_count": null,
      "outputs": [
        {
          "output_type": "execute_result",
          "data": {
            "text/plain": [
              "76"
            ]
          },
          "metadata": {},
          "execution_count": 11
        }
      ]
    },
    {
      "cell_type": "code",
      "source": [
        "a[0]=99\n"
      ],
      "metadata": {
        "id": "YejjZA4wFQbv"
      },
      "execution_count": null,
      "outputs": []
    },
    {
      "cell_type": "code",
      "source": [
        "a\n"
      ],
      "metadata": {
        "colab": {
          "base_uri": "https://localhost:8080/"
        },
        "id": "D3q7JCTwFXEU",
        "outputId": "ea4c7a02-69c5-4532-aa54-d00a6b4f2022"
      },
      "execution_count": null,
      "outputs": [
        {
          "output_type": "execute_result",
          "data": {
            "text/plain": [
              "[77, 76, 75, 74]"
            ]
          },
          "metadata": {},
          "execution_count": 10
        }
      ]
    },
    {
      "cell_type": "code",
      "source": [
        "b = (77,76,75,74)\n",
        "print(b)\n",
        "print(type(b))"
      ],
      "metadata": {
        "colab": {
          "base_uri": "https://localhost:8080/"
        },
        "id": "hMXhgazyFg9E",
        "outputId": "a8427660-49e5-4a3c-d685-52b919cca703"
      },
      "execution_count": null,
      "outputs": [
        {
          "output_type": "stream",
          "name": "stdout",
          "text": [
            "(77, 76, 75, 74)\n",
            "<class 'tuple'>\n"
          ]
        }
      ]
    },
    {
      "cell_type": "code",
      "source": [
        "# lists are mutable (values inside can be changed)\n",
        "# tuples are immutable (values once initialized cant be changed)"
      ],
      "metadata": {
        "id": "tv2m34NJFsTi"
      },
      "execution_count": null,
      "outputs": []
    },
    {
      "cell_type": "code",
      "source": [
        "list_demo = [999,'python',12.3,True,\"hello\"]\n",
        "for i in list_demo:\n",
        "  print(f'{i} is belonging to {type(i)}')"
      ],
      "metadata": {
        "colab": {
          "base_uri": "https://localhost:8080/"
        },
        "id": "YL2yWWh8F7uX",
        "outputId": "724a333b-81a9-4090-82d0-45a4a7980ed2"
      },
      "execution_count": null,
      "outputs": [
        {
          "output_type": "stream",
          "name": "stdout",
          "text": [
            "999 is belonging to <class 'int'>\n",
            "python is belonging to <class 'str'>\n",
            "12.3 is belonging to <class 'float'>\n",
            "True is belonging to <class 'bool'>\n",
            "hello is belonging to <class 'str'>\n"
          ]
        }
      ]
    },
    {
      "cell_type": "code",
      "source": [
        "list(range(5))"
      ],
      "metadata": {
        "colab": {
          "base_uri": "https://localhost:8080/"
        },
        "id": "nYvXSxzdGos4",
        "outputId": "7b8f99f8-01c4-4455-971c-7d9f8b7d971c"
      },
      "execution_count": null,
      "outputs": [
        {
          "output_type": "execute_result",
          "data": {
            "text/plain": [
              "[0, 1, 2, 3, 4]"
            ]
          },
          "metadata": {},
          "execution_count": 15
        }
      ]
    },
    {
      "cell_type": "code",
      "source": [
        "list(range(2,6))"
      ],
      "metadata": {
        "colab": {
          "base_uri": "https://localhost:8080/"
        },
        "id": "91o5Ss52Grmi",
        "outputId": "cf841cf0-8d29-45fd-c4d1-a31f302eecac"
      },
      "execution_count": null,
      "outputs": [
        {
          "output_type": "execute_result",
          "data": {
            "text/plain": [
              "[2, 3, 4, 5]"
            ]
          },
          "metadata": {},
          "execution_count": 16
        }
      ]
    },
    {
      "cell_type": "code",
      "source": [
        "list(range(1,10,2))"
      ],
      "metadata": {
        "colab": {
          "base_uri": "https://localhost:8080/"
        },
        "id": "E89IHbncGvIT",
        "outputId": "f853f4f0-aacf-4c47-f054-4d3631f90da8"
      },
      "execution_count": null,
      "outputs": [
        {
          "output_type": "execute_result",
          "data": {
            "text/plain": [
              "[1, 3, 5, 7, 9]"
            ]
          },
          "metadata": {},
          "execution_count": 17
        }
      ]
    },
    {
      "cell_type": "code",
      "source": [
        "# quotes in python\n",
        "# we can use single quote/Double quote/triple quote for initializing a string\n",
        "\n",
        "# single quote - character/word\n",
        "# double quote - word/sentence\n",
        "# triple quote - sentence/paragraph"
      ],
      "metadata": {
        "id": "BuisRTRYG6rL"
      },
      "execution_count": null,
      "outputs": []
    },
    {
      "cell_type": "code",
      "source": [
        "print(\"I'm having lunch\")"
      ],
      "metadata": {
        "colab": {
          "base_uri": "https://localhost:8080/"
        },
        "id": "nVqDG8KuHfxJ",
        "outputId": "166b2539-7219-4817-d60f-a3414d2ecf14"
      },
      "execution_count": null,
      "outputs": [
        {
          "output_type": "stream",
          "name": "stdout",
          "text": [
            "I'm having lunch\n"
          ]
        }
      ]
    },
    {
      "cell_type": "code",
      "source": [
        "'''this is not a multi line comment'''"
      ],
      "metadata": {
        "colab": {
          "base_uri": "https://localhost:8080/",
          "height": 36
        },
        "id": "beLUM_njHrfl",
        "outputId": "877a3779-324d-45d0-bbe2-9bb11e6d17c1"
      },
      "execution_count": null,
      "outputs": [
        {
          "output_type": "execute_result",
          "data": {
            "text/plain": [
              "'this is not a multi line comment'"
            ],
            "application/vnd.google.colaboratory.intrinsic+json": {
              "type": "string"
            }
          },
          "metadata": {},
          "execution_count": 19
        }
      ]
    },
    {
      "cell_type": "code",
      "source": [
        "a=[99,98,97,96]\n",
        "a.append(100)\n",
        "print(a)\n",
        "print(len(a))"
      ],
      "metadata": {
        "colab": {
          "base_uri": "https://localhost:8080/"
        },
        "id": "8-W9hpzSHx7r",
        "outputId": "7e433c16-835b-48d4-d621-3c4c4ccb52cd"
      },
      "execution_count": null,
      "outputs": [
        {
          "output_type": "stream",
          "name": "stdout",
          "text": [
            "[99, 98, 97, 96, 100]\n",
            "5\n"
          ]
        }
      ]
    },
    {
      "cell_type": "code",
      "source": [
        "# use both the loops and print the even values from 40 to 20\n",
        "# 40 38 36 34 32 30 28 26 24 22 20"
      ],
      "metadata": {
        "id": "76dvDQwvJGWr"
      },
      "execution_count": null,
      "outputs": []
    },
    {
      "cell_type": "code",
      "source": [
        "# while loop\n",
        "\n",
        "i=40\n",
        "while(i>=20):\n",
        "  print(i,end=' ')\n",
        "  i=i-2"
      ],
      "metadata": {
        "colab": {
          "base_uri": "https://localhost:8080/"
        },
        "id": "p0hu-oUwJoz3",
        "outputId": "4188d2f2-22fc-44ee-f619-30f0d87516ac"
      },
      "execution_count": null,
      "outputs": [
        {
          "output_type": "stream",
          "name": "stdout",
          "text": [
            "40 38 36 34 32 30 28 26 24 22 20 "
          ]
        }
      ]
    },
    {
      "cell_type": "code",
      "source": [
        "# for loop\n",
        "\n",
        "for i in range(40,19,-2):\n",
        " print(i,end=' ')"
      ],
      "metadata": {
        "colab": {
          "base_uri": "https://localhost:8080/"
        },
        "id": "_67LvhTRKDN0",
        "outputId": "e2852fb2-3c4e-4649-f453-30295ceca01e"
      },
      "execution_count": null,
      "outputs": [
        {
          "output_type": "stream",
          "name": "stdout",
          "text": [
            "40 38 36 34 32 30 28 26 24 22 20 "
          ]
        }
      ]
    },
    {
      "cell_type": "code",
      "source": [
        "# 2 important components : function, variable\n",
        "# module = python file\n",
        "# library = multiple modules\n",
        "# package = collection of multiple libraries\n",
        "\n",
        "# inbuilt library : python standard library\n",
        "# comprises of multiple modules\n",
        "# math,datetime, statistics, csv, json, pickle\n",
        "\n",
        "# userdefined library :\n",
        "# numpy (numerical computation with arrays )\n",
        "# matplotlib (data visualization)\n",
        "# pandas (data manipulation/ data preprocessing)"
      ],
      "metadata": {
        "id": "BqMS_uccKshb"
      },
      "execution_count": null,
      "outputs": []
    },
    {
      "cell_type": "code",
      "source": [
        "math.log(2)"
      ],
      "metadata": {
        "colab": {
          "base_uri": "https://localhost:8080/"
        },
        "id": "ylxcMz1vLo9_",
        "outputId": "f513a3b5-a30b-4ea5-e70a-1873cced0f6c"
      },
      "execution_count": null,
      "outputs": [
        {
          "output_type": "execute_result",
          "data": {
            "text/plain": [
              "0.6931471805599453"
            ]
          },
          "metadata": {},
          "execution_count": 28
        }
      ]
    },
    {
      "cell_type": "code",
      "source": [
        "# numpy - numerical python\n",
        "\n",
        "# main object - array"
      ],
      "metadata": {
        "id": "NroRZqdhMfLJ"
      },
      "execution_count": null,
      "outputs": []
    },
    {
      "cell_type": "code",
      "source": [
        "# Difference between list and array(numpy)\n",
        "# if numerical operations are considered, then use numpy\n",
        "# nd = n dimension\n",
        "# broadcasting"
      ],
      "metadata": {
        "id": "DRh3vurfMsKS"
      },
      "execution_count": null,
      "outputs": []
    },
    {
      "cell_type": "code",
      "source": [
        "a=[2,4,6,8]\n",
        "print(a)\n",
        "print(type(a))"
      ],
      "metadata": {
        "colab": {
          "base_uri": "https://localhost:8080/"
        },
        "id": "i9-Fk4eCM6Tm",
        "outputId": "8627fb10-68f4-41dd-f031-feec7b86bc87"
      },
      "execution_count": null,
      "outputs": [
        {
          "output_type": "stream",
          "name": "stdout",
          "text": [
            "[2, 4, 6, 8]\n",
            "<class 'list'>\n"
          ]
        }
      ]
    },
    {
      "cell_type": "code",
      "source": [
        "import numpy as np\n",
        "b=np.array([2,4,6,8])\n",
        "print(b)\n",
        "print(type(b))"
      ],
      "metadata": {
        "colab": {
          "base_uri": "https://localhost:8080/"
        },
        "id": "7Up3-mwfND8A",
        "outputId": "45c4216c-2de8-4d18-abce-4b968b913990"
      },
      "execution_count": null,
      "outputs": [
        {
          "output_type": "stream",
          "name": "stdout",
          "text": [
            "[2 4 6 8]\n",
            "<class 'numpy.ndarray'>\n"
          ]
        }
      ]
    },
    {
      "cell_type": "code",
      "source": [
        "b/2"
      ],
      "metadata": {
        "colab": {
          "base_uri": "https://localhost:8080/"
        },
        "id": "MnE_1nXXNak9",
        "outputId": "86fab4e9-8278-45fb-9ece-25d5d1dd2d92"
      },
      "execution_count": null,
      "outputs": [
        {
          "output_type": "execute_result",
          "data": {
            "text/plain": [
              "array([1., 2., 3., 4.])"
            ]
          },
          "metadata": {},
          "execution_count": 31
        }
      ]
    },
    {
      "cell_type": "code",
      "source": [
        "# single dimension - vector\n",
        "# two dimension - matrix\n",
        "# three or more dimension - tensor"
      ],
      "metadata": {
        "id": "_gWkrDsIN9Ta"
      },
      "execution_count": null,
      "outputs": []
    },
    {
      "cell_type": "code",
      "source": [
        "b=np.array([2,4,6,8])\n",
        "print(b.ndim)"
      ],
      "metadata": {
        "colab": {
          "base_uri": "https://localhost:8080/"
        },
        "id": "xRC1YDRAOJyT",
        "outputId": "9a500978-5936-480f-fdd1-782c47b56ea1"
      },
      "execution_count": null,
      "outputs": [
        {
          "output_type": "stream",
          "name": "stdout",
          "text": [
            "1\n"
          ]
        }
      ]
    },
    {
      "cell_type": "code",
      "source": [
        "b=np.array([[2,4,6,8],[9,8,7,6]])\n",
        "print(b.ndim)\n",
        "print(b)"
      ],
      "metadata": {
        "colab": {
          "base_uri": "https://localhost:8080/"
        },
        "id": "iYpVx4nlOYnv",
        "outputId": "53e10968-4378-4888-bc32-9bbd216c7bdc"
      },
      "execution_count": null,
      "outputs": [
        {
          "output_type": "stream",
          "name": "stdout",
          "text": [
            "2\n",
            "[[2 4 6 8]\n",
            " [9 8 7 6]]\n"
          ]
        }
      ]
    },
    {
      "cell_type": "code",
      "source": [
        "x = np.array([3,4])\n",
        "y = np.array([7,6])\n",
        "print(x+y)\n",
        "print(x-y)"
      ],
      "metadata": {
        "colab": {
          "base_uri": "https://localhost:8080/"
        },
        "id": "w_6SJqHsO8vW",
        "outputId": "5856f219-8fa5-4fca-f180-dbbab69d23fb"
      },
      "execution_count": null,
      "outputs": [
        {
          "output_type": "stream",
          "name": "stdout",
          "text": [
            "[10 10]\n",
            "[-4 -2]\n"
          ]
        }
      ]
    },
    {
      "cell_type": "code",
      "source": [
        "np.sum([3,4])"
      ],
      "metadata": {
        "colab": {
          "base_uri": "https://localhost:8080/"
        },
        "id": "wD_3WLmEPbpX",
        "outputId": "b73a182a-c82c-4aee-e9b6-dd1d3bab28a1"
      },
      "execution_count": null,
      "outputs": [
        {
          "output_type": "execute_result",
          "data": {
            "text/plain": [
              "7"
            ]
          },
          "metadata": {},
          "execution_count": 38
        }
      ]
    },
    {
      "cell_type": "code",
      "source": [
        "a = np.array([5,8,3,6,7])"
      ],
      "metadata": {
        "id": "jAG4xy4cPti2"
      },
      "execution_count": null,
      "outputs": []
    },
    {
      "cell_type": "code",
      "source": [
        "np.mean(a)"
      ],
      "metadata": {
        "colab": {
          "base_uri": "https://localhost:8080/"
        },
        "id": "5ZGfsQ_VP_Nu",
        "outputId": "0f61a812-be6f-4752-f2e4-536ced8e3fda"
      },
      "execution_count": null,
      "outputs": [
        {
          "output_type": "execute_result",
          "data": {
            "text/plain": [
              "5.0"
            ]
          },
          "metadata": {},
          "execution_count": 40
        }
      ]
    },
    {
      "cell_type": "code",
      "source": [
        "np.median(a)"
      ],
      "metadata": {
        "colab": {
          "base_uri": "https://localhost:8080/"
        },
        "id": "HP8behFRQK1N",
        "outputId": "4ce5f371-f920-4ddb-e495-e37b0db90c16"
      },
      "execution_count": null,
      "outputs": [
        {
          "output_type": "execute_result",
          "data": {
            "text/plain": [
              "5.0"
            ]
          },
          "metadata": {},
          "execution_count": 42
        }
      ]
    },
    {
      "cell_type": "code",
      "source": [
        "np.max(a)"
      ],
      "metadata": {
        "colab": {
          "base_uri": "https://localhost:8080/"
        },
        "id": "TDEoijgjQPxR",
        "outputId": "55f78df6-3b14-4b3f-dba2-65b6e66e2757"
      },
      "execution_count": null,
      "outputs": [
        {
          "output_type": "execute_result",
          "data": {
            "text/plain": [
              "8"
            ]
          },
          "metadata": {},
          "execution_count": 43
        }
      ]
    },
    {
      "cell_type": "code",
      "source": [
        "# euclidean distance\n",
        "\n",
        "a = np.array([4,5])\n",
        "b = np.array([8,6])\n",
        "\n",
        "# dist = 4.123"
      ],
      "metadata": {
        "id": "0c25twWqQfud"
      },
      "execution_count": null,
      "outputs": []
    },
    {
      "cell_type": "code",
      "source": [
        "# normalization\n",
        "\n",
        "c = np.array([6,5,78,153,89])"
      ],
      "metadata": {
        "id": "AgE7K2sHQ6zA"
      },
      "execution_count": null,
      "outputs": []
    },
    {
      "cell_type": "code",
      "source": [
        "# data visualization\n",
        "# the representation of information in the form of a chart, diagram, picture, etc.:\n",
        "# graphs\n",
        "\n",
        "# 1. line graph\n",
        "# 2. scatter graph\n",
        "# 3. bar graph\n",
        "# 4. pie chart\n",
        "# 5. histogram\n",
        "# 6. density kernal\n"
      ],
      "metadata": {
        "id": "bg_L0OxngJvR"
      },
      "execution_count": null,
      "outputs": []
    },
    {
      "cell_type": "code",
      "source": [
        "import matplotlib.pyplot as plt\n",
        "import numpy as np\n",
        "x = np.array([4,7,2,6,8])\n",
        "y = np.array([10,45,23,18,19])\n",
        "\n",
        "\n",
        "plt.plot(x,y,color='#26b58d' ,ls='--',lw=1,marker = '*')\n",
        "plt.text(8,10,\"karthikeya\")\n",
        "for i in range(len(x)):\n",
        "  plt.text(x[i],y[i],(x[i],y[i]))\n",
        "plt.xlim(0,10)\n",
        "plt.ylim(0)\n",
        "plt.xlabel(\"X axis\")\n",
        "plt.ylabel(\"Y axis\")\n",
        "plt.title(\"Line Graph\")\n",
        "plt.show()"
      ],
      "metadata": {
        "colab": {
          "base_uri": "https://localhost:8080/",
          "height": 472
        },
        "id": "-FPdf_I0jVGw",
        "outputId": "79812605-175c-4df1-ffab-67be251199d4"
      },
      "execution_count": null,
      "outputs": [
        {
          "output_type": "display_data",
          "data": {
            "text/plain": [
              "<Figure size 640x480 with 1 Axes>"
            ],
            "image/png": "[encoded data removed]"
          },
          "metadata": {}
        }
      ]
    },
    {
      "cell_type": "code",
      "source": [
        "plt.plot?"
      ],
      "metadata": {
        "id": "NCR8t73FkLAz"
      },
      "execution_count": null,
      "outputs": []
    },
    {
      "cell_type": "code",
      "source": [
        "import matplotlib.pyplot as plt\n",
        "import numpy as np\n",
        "x = np.arange(1,5)\n",
        "y = np.square(x)\n",
        "z = np.power(x,3)\n",
        "\n",
        "plt.plot(x,y,color='r' ,ls='--',lw=1,marker = '*',label='Square')\n",
        "plt.plot(x,z,color='g' ,ls=':',lw=1,marker = '+',label='Cube')\n",
        "plt.legend()\n",
        "plt.show()"
      ],
      "metadata": {
        "colab": {
          "base_uri": "https://localhost:8080/",
          "height": 430
        },
        "id": "rAqPwB4Vnf_B",
        "outputId": "ad41165b-d6e2-4721-847a-f7c1e3f48565"
      },
      "execution_count": null,
      "outputs": [
        {
          "output_type": "display_data",
          "data": {
            "text/plain": [
              "<Figure size 640x480 with 1 Axes>"
            ],
            "image/png": "[encoded data removed]"
          },
          "metadata": {}
        }
      ]
    },
    {
      "cell_type": "code",
      "source": [
        "# line plot is used in Regression Analysis, Forecasting, Trend Analysis"
      ],
      "metadata": {
        "id": "29em50xMq9VW"
      },
      "execution_count": null,
      "outputs": []
    },
    {
      "cell_type": "code",
      "source": [
        "# Scatter Plot : Line Plot with Marker but without a line"
      ],
      "metadata": {
        "id": "xN4eiD4FrN7K"
      },
      "execution_count": null,
      "outputs": []
    },
    {
      "cell_type": "code",
      "source": [
        "import matplotlib.pyplot as plt\n",
        "import numpy as np\n",
        "x = np.arange(1,6)\n",
        "z = np.power(x,3)\n",
        "\n",
        "plt.plot(x,z,color='g' ,ls='',marker = 'o',label='Cube')\n",
        "plt.legend()\n",
        "plt.show()"
      ],
      "metadata": {
        "colab": {
          "base_uri": "https://localhost:8080/",
          "height": 430
        },
        "id": "AD5HQ4-drcTW",
        "outputId": "84904ee5-6e89-4c08-bc36-b19cce612ba6"
      },
      "execution_count": null,
      "outputs": [
        {
          "output_type": "display_data",
          "data": {
            "text/plain": [
              "<Figure size 640x480 with 1 Axes>"
            ],
            "image/png": "[encoded data removed]"
          },
          "metadata": {}
        }
      ]
    },
    {
      "cell_type": "code",
      "source": [
        "plt.scatter(x,z,s=np.random.randint(2,100))\n",
        "plt.show()"
      ],
      "metadata": {
        "colab": {
          "base_uri": "https://localhost:8080/",
          "height": 430
        },
        "id": "IfTO3brcsGkn",
        "outputId": "cd8308ce-01a7-41b9-a020-ea99af16635b"
      },
      "execution_count": null,
      "outputs": [
        {
          "output_type": "display_data",
          "data": {
            "text/plain": [
              "<Figure size 640x480 with 1 Axes>"
            ],
            "image/png": "[encoded data removed]"
          },
          "metadata": {}
        }
      ]
    },
    {
      "cell_type": "code",
      "source": [
        "# bar graph\n",
        "\n",
        "# create a numpy array named person and put 4 people names in that\n",
        "# create another array with respective heights of those people\n",
        "# create a bar graph for the same"
      ],
      "metadata": {
        "id": "JG_J3WEjs4ce"
      },
      "execution_count": null,
      "outputs": []
    },
    {
      "cell_type": "code",
      "source": [
        "person =np.array(['Mr A','Mr B','Mr C','Mr D'])\n",
        "height =np.array([142,154,134,153])\n",
        "plt.bar(person,height)\n",
        "plt.xlabel('person')\n",
        "plt.ylabel('height')\n",
        "plt.show()"
      ],
      "metadata": {
        "colab": {
          "base_uri": "https://localhost:8080/",
          "height": 451
        },
        "id": "WCPjKkfxtmdA",
        "outputId": "946d4e9f-a8c6-49c0-b401-ea5395c4cdb2"
      },
      "execution_count": null,
      "outputs": [
        {
          "output_type": "display_data",
          "data": {
            "text/plain": [
              "<Figure size 640x480 with 1 Axes>"
            ],
            "image/png": "[encoded data removed]"
          },
          "metadata": {}
        }
      ]
    },
    {
      "cell_type": "code",
      "source": [
        "person =np.array(['Mr A','Mr B','Mr C','Mr D'])\n",
        "height =np.array([142,154,134,153])\n",
        "plt.bar(person,height,color=['r','g','b','k'])\n",
        "plt.xlabel('person')\n",
        "plt.ylabel('height')\n",
        "plt.show()"
      ],
      "metadata": {
        "colab": {
          "base_uri": "https://localhost:8080/",
          "height": 451
        },
        "id": "aRYTpPEFvABv",
        "outputId": "b4846523-6d48-497a-cbe8-c4c3b78b012b"
      },
      "execution_count": null,
      "outputs": [
        {
          "output_type": "display_data",
          "data": {
            "text/plain": [
              "<Figure size 640x480 with 1 Axes>"
            ],
            "image/png": "[encoded data removed]"
          },
          "metadata": {}
        }
      ]
    },
    {
      "cell_type": "code",
      "source": [
        "person =np.array(['Mr A','Mr B','Mr C','Mr D'])\n",
        "height =np.array([142,154,134,153])\n",
        "plt.bar(person,height)\n",
        "plt.xlabel('person')\n",
        "plt.ylabel('height')\n",
        "plt.show()"
      ],
      "metadata": {
        "id": "Dj0B4zTXvWOX"
      },
      "execution_count": null,
      "outputs": []
    },
    {
      "cell_type": "code",
      "source": [
        "# pie chart\n",
        "cities = ['mumbai','bangalore','pune','mysore']\n",
        "sales = [1234,3222,42422,5343]\n",
        "#  plot a pie chart for above data with percentage\n",
        "plt.pie(sales,explode=[0,0,0.1,0],labels=cities,autopct='%.2f%%')\n",
        "plt.show()"
      ],
      "metadata": {
        "colab": {
          "base_uri": "https://localhost:8080/",
          "height": 406
        },
        "id": "D_FPLkqWv3Bi",
        "outputId": "fa7e98f8-5a06-4fc8-fa06-419c9244191f"
      },
      "execution_count": null,
      "outputs": [
        {
          "output_type": "display_data",
          "data": {
            "text/plain": [
              "<Figure size 640x480 with 1 Axes>"
            ],
            "image/png": "[encoded data removed]"
          },
          "metadata": {}
        }
      ]
    },
    {
      "cell_type": "code",
      "source": [
        "import seaborn as sns\n",
        "import numpy as np\n",
        "import matplotlib.pyplot as plt"
      ],
      "metadata": {
        "id": "2FoTX-TaoNct"
      },
      "execution_count": null,
      "outputs": []
    },
    {
      "cell_type": "code",
      "source": [
        "age = np.random.randint(5,80,30)\n",
        "age"
      ],
      "metadata": {
        "colab": {
          "base_uri": "https://localhost:8080/"
        },
        "id": "nJ13PTA0oSGf",
        "outputId": "2253d9df-9eef-4a0a-c67b-421fc0825933"
      },
      "execution_count": null,
      "outputs": [
        {
          "output_type": "execute_result",
          "data": {
            "text/plain": [
              "array([53, 13, 20, 46, 43, 33, 56, 24, 37,  5, 10, 62, 27,  5, 29, 53, 39,\n",
              "       32, 24, 69, 13, 71, 46, 44, 51, 66, 20, 58, 41, 78])"
            ]
          },
          "metadata": {},
          "execution_count": 3
        }
      ]
    },
    {
      "cell_type": "code",
      "source": [
        "np.min(age)"
      ],
      "metadata": {
        "colab": {
          "base_uri": "https://localhost:8080/"
        },
        "id": "sGE2Nn6Bpwyy",
        "outputId": "ab12b226-9113-4163-c58c-b0b8c52db7a2"
      },
      "execution_count": null,
      "outputs": [
        {
          "output_type": "execute_result",
          "data": {
            "text/plain": [
              "5"
            ]
          },
          "metadata": {},
          "execution_count": 11
        }
      ]
    },
    {
      "cell_type": "code",
      "source": [
        "np.max(age)"
      ],
      "metadata": {
        "colab": {
          "base_uri": "https://localhost:8080/"
        },
        "id": "uOg_UM59p0EY",
        "outputId": "51cb78d3-fc4d-4e87-e1cd-e848f8218dbb"
      },
      "execution_count": null,
      "outputs": [
        {
          "output_type": "execute_result",
          "data": {
            "text/plain": [
              "78"
            ]
          },
          "metadata": {},
          "execution_count": 12
        }
      ]
    },
    {
      "cell_type": "code",
      "source": [
        "(78-5)/10"
      ],
      "metadata": {
        "colab": {
          "base_uri": "https://localhost:8080/"
        },
        "id": "TwrSi2OTp6oM",
        "outputId": "43c1423e-12cb-4ef5-bd00-d0923d0a9b78"
      },
      "execution_count": null,
      "outputs": [
        {
          "output_type": "execute_result",
          "data": {
            "text/plain": [
              "7.3"
            ]
          },
          "metadata": {},
          "execution_count": 13
        }
      ]
    },
    {
      "cell_type": "code",
      "source": [
        "5+7.3"
      ],
      "metadata": {
        "colab": {
          "base_uri": "https://localhost:8080/"
        },
        "id": "DYpXIMHwp_yJ",
        "outputId": "bec6696b-d610-41c1-e709-c2642479bb85"
      },
      "execution_count": null,
      "outputs": [
        {
          "output_type": "execute_result",
          "data": {
            "text/plain": [
              "12.3"
            ]
          },
          "metadata": {},
          "execution_count": 14
        }
      ]
    },
    {
      "cell_type": "code",
      "source": [
        "sns.histplot(age,bins=10)\n",
        "plt.show()"
      ],
      "metadata": {
        "colab": {
          "base_uri": "https://localhost:8080/",
          "height": 430
        },
        "id": "vGcb4aCwonye",
        "outputId": "a2b7ae3b-3e34-4ad0-8b7d-e284bec282a2"
      },
      "execution_count": null,
      "outputs": [
        {
          "output_type": "display_data",
          "data": {
            "text/plain": [
              "<Figure size 640x480 with 1 Axes>"
            ],
            "image/png": "[encoded data removed]"
          },
          "metadata": {}
        }
      ]
    },
    {
      "cell_type": "code",
      "source": [
        "sns.histplot?"
      ],
      "metadata": {
        "id": "F81WkWDTpRS_"
      },
      "execution_count": null,
      "outputs": []
    },
    {
      "cell_type": "code",
      "source": [
        "sns.kdeplot(age)\n",
        "plt.show()"
      ],
      "metadata": {
        "colab": {
          "base_uri": "https://localhost:8080/",
          "height": 430
        },
        "id": "T8ljK0wEpWem",
        "outputId": "84322d41-d52f-4116-d6e0-32ea95a63dcb"
      },
      "execution_count": null,
      "outputs": [
        {
          "output_type": "display_data",
          "data": {
            "text/plain": [
              "<Figure size 640x480 with 1 Axes>"
            ],
            "image/png": "[encoded data removed]"
          },
          "metadata": {}
        }
      ]
    },
    {
      "cell_type": "code",
      "source": [
        "sns.histplot(age,bins=10,kde=True)"
      ],
      "metadata": {
        "colab": {
          "base_uri": "https://localhost:8080/",
          "height": 447
        },
        "id": "3VCTyQxLqTcX",
        "outputId": "85b7f462-5ed4-4a25-ea64-16dcf41671d4"
      },
      "execution_count": null,
      "outputs": [
        {
          "output_type": "execute_result",
          "data": {
            "text/plain": [
              "<Axes: ylabel='Count'>"
            ]
          },
          "metadata": {},
          "execution_count": 16
        },
        {
          "output_type": "display_data",
          "data": {
            "text/plain": [
              "<Figure size 640x480 with 1 Axes>"
            ],
            "image/png": "[encoded data removed]"
          },
          "metadata": {}
        }
      ]
    },
    {
      "cell_type": "code",
      "source": [],
      "metadata": {
        "id": "WqukwRnqqcja"
      },
      "execution_count": null,
      "outputs": []
    }
  ]
}